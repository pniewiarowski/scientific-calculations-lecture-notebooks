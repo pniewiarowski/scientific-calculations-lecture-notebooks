{
 "cells": [
  {
   "metadata": {},
   "cell_type": "markdown",
   "source": "# Funkcja f(x) = x * ln(x)^4",
   "id": "538a0de4fbc58790"
  },
  {
   "metadata": {
    "ExecuteTime": {
     "end_time": "2025-03-20T18:50:59.494237Z",
     "start_time": "2025-03-20T18:50:59.467083Z"
    }
   },
   "cell_type": "code",
   "source": [
    "import sympy as sp\n",
    "\n",
    "sp.init_printing()"
   ],
   "id": "6f931b03e938d630",
   "outputs": [],
   "execution_count": 121
  },
  {
   "metadata": {
    "ExecuteTime": {
     "end_time": "2025-03-20T18:50:59.530824Z",
     "start_time": "2025-03-20T18:50:59.524122Z"
    }
   },
   "cell_type": "code",
   "source": [
    "x = sp.symbols('x')\n",
    "definition = x * (sp.log(x) ** 4)"
   ],
   "id": "143c084fd05a489c",
   "outputs": [],
   "execution_count": 122
  },
  {
   "metadata": {},
   "cell_type": "markdown",
   "source": "",
   "id": "58a32268cc0e87ac"
  },
  {
   "metadata": {},
   "cell_type": "markdown",
   "source": [
    "## Zadanie 1\n",
    "Wyznacz dziedzinę funkcji i asymptoty, jeśli są.\n"
   ],
   "id": "c39fc1b94c635925"
  },
  {
   "metadata": {
    "ExecuteTime": {
     "end_time": "2025-03-20T18:50:59.612242Z",
     "start_time": "2025-03-20T18:50:59.574268Z"
    }
   },
   "cell_type": "code",
   "source": [
    "domain = sp.calculus.util.continuous_domain(definition, x, sp.Reals)\n",
    "asymptote_to_infinite = sp.limit(definition, x, sp.oo)\n",
    "asymptote_to_negative_infinite = sp.limit(definition, x, -sp.oo)\n",
    "asymptote_horizontal = sp.limit(definition, x, 0)"
   ],
   "id": "53e02b50a5621ec2",
   "outputs": [],
   "execution_count": 123
  },
  {
   "metadata": {
    "ExecuteTime": {
     "end_time": "2025-03-20T18:50:59.664070Z",
     "start_time": "2025-03-20T18:50:59.660049Z"
    }
   },
   "cell_type": "code",
   "source": [
    "print(f'Dziedzina funkcji: {domain}')\n",
    "print(f'Asymptota pionowa: {asymptote_to_infinite}')\n",
    "print(f'Asymptota pozioma: {asymptote_horizontal}')"
   ],
   "id": "13e03042d0e94342",
   "outputs": [
    {
     "name": "stdout",
     "output_type": "stream",
     "text": [
      "Dziedzina funkcji: Interval.open(0, oo)\n",
      "Asymptota pionowa: oo\n",
      "Asymptota pozioma: 0\n"
     ]
    }
   ],
   "execution_count": 124
  },
  {
   "metadata": {},
   "cell_type": "markdown",
   "source": [
    "## Zadanie 2\n",
    "Narysuj wykres funkcji."
   ],
   "id": "921d6801d76ee5f7"
  },
  {
   "metadata": {
    "ExecuteTime": {
     "end_time": "2025-03-20T18:50:59.858166Z",
     "start_time": "2025-03-20T18:50:59.716319Z"
    }
   },
   "cell_type": "code",
   "source": [
    "plot_title = 'f(x) = x * log_2(x)^4'\n",
    "x_label = 'x'\n",
    "y_label = 'f(x)'\n",
    "step = 0.01\n",
    "end_value = 10\n",
    "\n",
    "sp.plot(definition, (x, step, end_value), title=plot_title, xlabel=x_label, ylabel=y_label)"
   ],
   "id": "592a12a1983b8412",
   "outputs": [
    {
     "data": {
      "text/plain": [
       "<Figure size 640x480 with 1 Axes>"
      ],
      "image/png": "[encoded data removed]"
     },
     "metadata": {},
     "output_type": "display_data"
    },
    {
     "data": {
      "text/plain": [
       "<sympy.plotting.backends.matplotlibbackend.matplotlib.MatplotlibBackend at 0x73323bc371a0>"
      ]
     },
     "execution_count": 125,
     "metadata": {},
     "output_type": "execute_result"
    }
   ],
   "execution_count": 125
  },
  {
   "metadata": {},
   "cell_type": "markdown",
   "source": [
    "## Zadanie 3\n",
    "Obliczyć pochodne f(k), k = 1, 2, 3, 4 a następnie obliczyć wartości tych pochodnych w podanych punktach"
   ],
   "id": "5ab9a2f4ee2fa73"
  },
  {
   "metadata": {
    "ExecuteTime": {
     "end_time": "2025-03-20T18:50:59.885106Z",
     "start_time": "2025-03-20T18:50:59.881368Z"
    }
   },
   "cell_type": "code",
   "source": [
    "first_derivative = sp.diff(definition)\n",
    "second_derivative = sp.diff(first_derivative)\n",
    "third_derivative = sp.diff(second_derivative)\n",
    "fourth_derivative = sp.diff(third_derivative)"
   ],
   "id": "3d5a135fbc181f71",
   "outputs": [],
   "execution_count": 126
  },
  {
   "metadata": {
    "ExecuteTime": {
     "end_time": "2025-03-20T18:50:59.958401Z",
     "start_time": "2025-03-20T18:50:59.948556Z"
    }
   },
   "cell_type": "code",
   "source": [
    "print(f'Pierwsza pochodna (1.11) {first_derivative.subs(x, 1.11).evalf()}')\n",
    "print(f'Druga pochodna (2.22) {second_derivative.subs(x, 2.22).evalf()}')\n",
    "print(f'Trzecie pochodna (3.33) {third_derivative.subs(x, 3.33).evalf()}')\n",
    "print(f'Czwarta pochodna (4.44) {fourth_derivative.subs(x, 4.44).evalf()}')"
   ],
   "id": "b5aa8c6279402b6f",
   "outputs": [
    {
     "name": "stdout",
     "output_type": "stream",
     "text": [
      "Pierwsza pochodna (1.11) 0.00466495920995858\n",
      "Druga pochodna (2.22) 4.35185927358923\n",
      "Trzecie pochodna (3.33) 1.97565552576735\n",
      "Czwarta pochodna (4.44) -0.545166487330982\n"
     ]
    }
   ],
   "execution_count": 127
  },
  {
   "metadata": {},
   "cell_type": "markdown",
   "source": [
    "## Zadanie 4\n",
    "Wyznaczyć przedziały monotoniczności funkcji."
   ],
   "id": "1d8ccdb6bdddc2d8"
  },
  {
   "metadata": {
    "ExecuteTime": {
     "end_time": "2025-03-20T18:51:00.159311Z",
     "start_time": "2025-03-20T18:50:59.996070Z"
    }
   },
   "cell_type": "code",
   "source": [
    "increasing_intervals = sp.solve(first_derivative > 0, x)\n",
    "decreasing_intervals = sp.solve(first_derivative < 0, x)\n",
    "\n",
    "print(f'Przedziały, na których funkcja jest rosnąca: {increasing_intervals}')\n",
    "print(f'Przedziały, na których funkcja jest malejąca: {decreasing_intervals}')"
   ],
   "id": "ba5976c379ac4eeb",
   "outputs": [
    {
     "name": "stdout",
     "output_type": "stream",
     "text": [
      "Przedziały, na których funkcja jest rosnąca: (1 < x) | ((0 < x) & (x < exp(-4)))\n",
      "Przedziały, na których funkcja jest malejąca: (x < 1) & (exp(-4) < x)\n"
     ]
    }
   ],
   "execution_count": 128
  },
  {
   "metadata": {},
   "cell_type": "markdown",
   "source": [
    "## Zadanie 5\n",
    "Kiedy funkcja osiąga ekstrema?"
   ],
   "id": "279c31a9ef913898"
  },
  {
   "metadata": {
    "ExecuteTime": {
     "end_time": "2025-03-20T18:51:00.243578Z",
     "start_time": "2025-03-20T18:51:00.182650Z"
    }
   },
   "cell_type": "code",
   "source": [
    "derivative_zeroes = sp.solve(first_derivative, x)\n",
    "\n",
    "min_value = definition.subs(x, derivative_zeroes[0]).evalf()\n",
    "max_value = definition.subs(x, derivative_zeroes[0]).evalf()\n",
    "min_for = derivative_zeroes[0]\n",
    "max_for = derivative_zeroes[0]\n",
    "\n",
    "for zero in derivative_zeroes:\n",
    "    result = definition.subs(x, zero).evalf()\n",
    "    if min_value > result:\n",
    "        min_value = result\n",
    "        min_for = zero\n",
    "\n",
    "    if max_value < result:\n",
    "        max_value = result\n",
    "        max_for = zero\n",
    "\n",
    "print(f'Maksimum dla {max_for}: {max_value}')\n",
    "print(f'Minimum dla {min_for}: {min_value}')"
   ],
   "id": "cca976b647918b80",
   "outputs": [
    {
     "name": "stdout",
     "output_type": "stream",
     "text": [
      "Maksimum dla exp(-4): 4.68880355551595\n",
      "Minimum dla 1: 0\n"
     ]
    }
   ],
   "execution_count": 129
  },
  {
   "metadata": {},
   "cell_type": "markdown",
   "source": [
    "## Zadanie 6\n",
    "Wyznaczyć przedziały wypukłości i wklęsłości wykresu funkcji"
   ],
   "id": "8deefb641c785427"
  },
  {
   "metadata": {
    "ExecuteTime": {
     "end_time": "2025-03-20T18:51:00.359638Z",
     "start_time": "2025-03-20T18:51:00.292049Z"
    }
   },
   "cell_type": "code",
   "source": [
    "potential_inflection_points = sp.solve(second_derivative, x)\n",
    "potential_inflection_points = sorted(potential_inflection_points, key=lambda p: float(p.evalf()))\n",
    "print(\"Punkty przegięcia:\", potential_inflection_points)\n",
    "\n",
    "intervals = [(0, potential_inflection_points[0]), (potential_inflection_points[0], potential_inflection_points[1]),\n",
    "             (potential_inflection_points[1], float('inf'))]\n",
    "print(f\"Przedziały: {intervals}\")\n",
    "\n",
    "\n",
    "def get_test_point(interval):\n",
    "    start, end = interval\n",
    "    if end == float('inf'):\n",
    "        return start + 1  # Dla nieskończoności punkt przesunięty o 1\n",
    "    else:\n",
    "        return (start + end) / 2\n",
    "\n",
    "\n",
    "test_points = [get_test_point(interval) for interval in intervals]\n",
    "print(f\"Punkty testowe: {test_points} \\n\")"
   ],
   "id": "858885636da600e4",
   "outputs": [
    {
     "name": "stdout",
     "output_type": "stream",
     "text": [
      "Punkty przegięcia: [exp(-3), 1]\n",
      "Przedziały: [(0, exp(-3)), (exp(-3), 1), (1, inf)]\n",
      "Punkty testowe: [exp(-3)/2, exp(-3)/2 + 1/2, 2] \n",
      "\n"
     ]
    }
   ],
   "execution_count": 130
  },
  {
   "metadata": {
    "ExecuteTime": {
     "end_time": "2025-03-20T18:51:00.379817Z",
     "start_time": "2025-03-20T18:51:00.369882Z"
    }
   },
   "cell_type": "code",
   "source": [
    "print(\"\\nOdpowiedź:\")\n",
    "for i, interval in enumerate(intervals):\n",
    "    value = second_derivative.subs(x, test_points[i]).evalf()\n",
    "    if value > 0:\n",
    "        print(f\"Przedział {interval}: wypukła (f'' > 0)\")\n",
    "    elif value < 0:\n",
    "        print(f\"Przedział {interval}: wklęsła (f'' < 0)\")\n",
    "    else:\n",
    "        print(f\"Przedział {interval}: f'' = 0 (sprawdź dokładniej)\")"
   ],
   "id": "29e912917a930249",
   "outputs": [
    {
     "name": "stdout",
     "output_type": "stream",
     "text": [
      "\n",
      "Odpowiedź:\n",
      "Przedział (0, exp(-3)): wklęsła (f'' < 0)\n",
      "Przedział (exp(-3), 1): wypukła (f'' > 0)\n",
      "Przedział (1, inf): wypukła (f'' > 0)\n"
     ]
    }
   ],
   "execution_count": 131
  },
  {
   "metadata": {},
   "cell_type": "markdown",
   "source": [
    "## Zadanie 7\n",
    "Wykres funkcji f ma punkty przegięcia\n",
    "\n",
    "Punkty przegięcia to miejsce w którym druga pochodna funkcji wynosi 0 lub jest niezdefiniowana, a dodatkowo następuje zmiana znaku."
   ],
   "id": "d77481ae6584bf38"
  },
  {
   "metadata": {
    "ExecuteTime": {
     "end_time": "2025-03-20T18:51:00.434491Z",
     "start_time": "2025-03-20T18:51:00.427869Z"
    }
   },
   "cell_type": "code",
   "source": [
    "for i, point in enumerate(test_points):\n",
    "    value = second_derivative.subs(x, point).evalf()\n",
    "    sign = '+' if value > 0 else '-' if value < 0 else '0'\n",
    "    print(f\"Przedział {intervals[i]}: f''({point}) = {value}, znak: {sign}\")"
   ],
   "id": "352594e1d705878f",
   "outputs": [
    {
     "name": "stdout",
     "output_type": "stream",
     "text": [
      "Przedział (0, exp(-3)): f''(exp(-3)/2) = -1519.12015235506, znak: -\n",
      "Przedział (exp(-3), 1): f''(exp(-3)/2 + 1/2) = 7.45739790882108, znak: +\n",
      "Przedział (1, inf): f''(2) = 3.54876738748707, znak: +\n"
     ]
    }
   ],
   "execution_count": 132
  },
  {
   "metadata": {
    "ExecuteTime": {
     "end_time": "2025-03-20T18:51:00.489549Z",
     "start_time": "2025-03-20T18:51:00.485686Z"
    }
   },
   "cell_type": "code",
   "source": "print(f'Zmiana znaku następuje w {test_points[0]}, co oznacza, że występuje tu punkt przegięcia.')",
   "id": "84afaf21fc4950f6",
   "outputs": [
    {
     "name": "stdout",
     "output_type": "stream",
     "text": [
      "Zmiana znaku następuje w exp(-3)/2, co oznacza, że występuje tu punkt przegięcia.\n"
     ]
    }
   ],
   "execution_count": 133
  },
  {
   "metadata": {},
   "cell_type": "markdown",
   "source": [
    "## Zadanie 8\n",
    "Pole obszaru D ograniczonego wykresem funkcji y = f(x) i prostymi y = 0, x = 1, x = 7\n",
    "\n",
    "f(x) > 0 dla x > 0"
   ],
   "id": "d6d8bfaf3f448219"
  },
  {
   "metadata": {
    "ExecuteTime": {
     "end_time": "2025-03-20T18:51:00.646490Z",
     "start_time": "2025-03-20T18:51:00.538631Z"
    }
   },
   "cell_type": "code",
   "source": [
    "# Całka oznaczona od 1 do 7\n",
    "definite_integral = sp.integrate(definition, (x, 1, 7))\n",
    "print(\"Pole obszaru D:\", definite_integral)\n",
    "\n",
    "# Wartość numeryczna\n",
    "pole_numeric = definite_integral.evalf()\n",
    "print(\"Pole obszaru D (numerycznie):\", pole_numeric)"
   ],
   "id": "b09df38ba695e182",
   "outputs": [
    {
     "name": "stdout",
     "output_type": "stream",
     "text": [
      "Pole obszaru D: -49*log(7)**3 - 147*log(7)/2 + 36 + 147*log(7)**2/2 + 49*log(7)**4/2\n",
      "Pole obszaru D (numerycznie): 161.523723002576\n"
     ]
    }
   ],
   "execution_count": 134
  },
  {
   "metadata": {},
   "cell_type": "markdown",
   "source": [
    "## Zadanie 9\n",
    "Długość łuku L określanego wzorem L : y = f(x), x należącego do przedziału [1, 7] wynosi"
   ],
   "id": "1ebdda8888e1cd20"
  },
  {
   "metadata": {
    "ExecuteTime": {
     "end_time": "2025-03-20T18:51:01.204021Z",
     "start_time": "2025-03-20T18:51:00.668253Z"
    }
   },
   "cell_type": "code",
   "source": [
    "integrand = sp.sqrt(1 + first_derivative ** 2)\n",
    "length = sp.integrate(integrand, (x, 1, 7))\n",
    "length_numeric = length.evalf()\n",
    "print(\"Długość łuku L:\", length_numeric)"
   ],
   "id": "927767c192061fbb",
   "outputs": [
    {
     "name": "stdout",
     "output_type": "stream",
     "text": [
      "Długość łuku L: 101.331959288273\n"
     ]
    }
   ],
   "execution_count": 135
  },
  {
   "metadata": {},
   "cell_type": "markdown",
   "source": [
    "## Zadanie 10\n",
    "Objętość bryły Ωx powstałej w wyniku obrotu figury T : 0 <= y <= f(x), 1 <= x <= 7 wokół osi Ox wynosi"
   ],
   "id": "3b72f3603093fbed"
  },
  {
   "metadata": {
    "ExecuteTime": {
     "end_time": "2025-03-20T18:51:01.389094Z",
     "start_time": "2025-03-20T18:51:01.226663Z"
    }
   },
   "cell_type": "code",
   "source": [
    "integrand_solid = definition ** 2\n",
    "definite_integral_solid = sp.integrate(integrand_solid, (x, 1, 7))\n",
    "volume = sp.pi * definite_integral_solid\n",
    "volume_numeric = volume.evalf()\n",
    "\n",
    "print(\"Objętość bryły Ωx:\", volume_numeric)"
   ],
   "id": "ad86b12dbbb4df0",
   "outputs": [
    {
     "name": "stdout",
     "output_type": "stream",
     "text": [
      "Objętość bryły Ωx: 29829.7214762937\n"
     ]
    }
   ],
   "execution_count": 136
  }
 ],
 "metadata": {
  "kernelspec": {
   "display_name": "Python 3",
   "language": "python",
   "name": "python3"
  },
  "language_info": {
   "codemirror_mode": {
    "name": "ipython",
    "version": 2
   },
   "file_extension": ".py",
   "mimetype": "text/x-python",
   "name": "python",
   "nbconvert_exporter": "python",
   "pygments_lexer": "ipython2",
   "version": "2.7.6"
  }
 },
 "nbformat": 4,
 "nbformat_minor": 5
}
